{
 "cells": [
  {
   "cell_type": "markdown",
   "source": [
    "# Тестовое задание в \"*mindbox*\"\n",
    "___\n",
    "___"
   ],
   "metadata": {
    "collapsed": false
   }
  },
  {
   "cell_type": "markdown",
   "source": [
    "### Условия\n",
    "___\n",
    "- Цель: группировка клиентов для АБ-тестов\n",
    "- Алгоритм: номером группы является сумма цифр клиентского ID\n",
    "- Дополнительно: ID-клиента - число состоящее из 5-7 цифр, например: 7412567\n"
   ],
   "metadata": {
    "collapsed": false
   }
  },
  {
   "cell_type": "markdown",
   "source": [
    "### Задачи\n",
    "___\n",
    "Написать диагностические функции для оценки указанного алгоритма:\n",
    "- Функция, которая подсчитывает число покупателей, попадающих в каждую группу,\n",
    "если нумерация ID сквозная и начинается с 0.\n",
    "На вход функция получает целое число n_customers (количество клиентов).\n",
    "- Функция, аналогичная первой, если ID начинается с произвольного числа.\n",
    "На вход функция получает целые числа: n_customers (количество клиентов) и n_first_id (первый ID в последовательности).\n"
   ],
   "metadata": {
    "collapsed": false
   }
  },
  {
   "cell_type": "markdown",
   "source": [
    "### Рассуждения\n",
    "___\n",
    "1. До конца неясна связь условия и задачи:\n",
    "- Условие - *ID-клиента - число состоящее из 5-7 цифр*\n",
    "- Задача - *нумерация начинается с 0*\n",
    "2. 5-7 цифр - это может быть 5, либо 6, либо 7? Или подразумевается диапазон от 10000 до 9999999 (то есть от\n",
    "минимального пятизначного числа до максимального семизначного)?\n",
    "3. В любом из этих случаев - почему нумерация начинается с 0? Предполагается нумерация в виде, например,\n",
    "00000, 00001, 00002 и т.д. (для 5 цифр в числе). И тогда диапазон id выглядит как [0000000, 9999999] (для 7 цифр)?\n",
    "В идеале такие вещи уточнять с заказчиком в рамках согласования ТЗ, но раз это тестовое - обходимся своей логикой.\n",
    "Итак для реализаций принимаем:\n",
    "- максимально возможный id клиента равен 9999999;\n",
    "- если начинать отсчет id с нуля и оставлять оформление id например в виде 00027 - то это использовать строковый тип\n",
    "данных, который все равно будет преобразован в целочисленный для манипуляций с арифметическими операциями, поэтому\n",
    "сразу сгенерируем целочисленные id в диапазоне [0, 9999999] (для работы со второй функцией - перемешаем id).\n",
    "- Ниже (после ячейки с импортами) приведу пример генерации 4-х значного id строкового типа (в малом диапазоне)"
   ],
   "metadata": {
    "collapsed": false
   }
  },
  {
   "cell_type": "markdown",
   "source": [
    "### Реализация\n",
    "___"
   ],
   "metadata": {
    "collapsed": false
   }
  },
  {
   "cell_type": "code",
   "execution_count": 1,
   "outputs": [],
   "source": [
    "import pandas as pd\n",
    "import random as rnd\n",
    "import matplotlib.pyplot as plt\n",
    "%matplotlib inline"
   ],
   "metadata": {
    "collapsed": false
   }
  },
  {
   "cell_type": "code",
   "execution_count": 2,
   "outputs": [
    {
     "data": {
      "text/plain": "  ClientID_str\n0         0587\n1         0059\n2         0819\n3         0451\n4         0129",
      "text/html": "<div>\n<style scoped>\n    .dataframe tbody tr th:only-of-type {\n        vertical-align: middle;\n    }\n\n    .dataframe tbody tr th {\n        vertical-align: top;\n    }\n\n    .dataframe thead th {\n        text-align: right;\n    }\n</style>\n<table border=\"1\" class=\"dataframe\">\n  <thead>\n    <tr style=\"text-align: right;\">\n      <th></th>\n      <th>ClientID_str</th>\n    </tr>\n  </thead>\n  <tbody>\n    <tr>\n      <th>0</th>\n      <td>0587</td>\n    </tr>\n    <tr>\n      <th>1</th>\n      <td>0059</td>\n    </tr>\n    <tr>\n      <th>2</th>\n      <td>0819</td>\n    </tr>\n    <tr>\n      <th>3</th>\n      <td>0451</td>\n    </tr>\n    <tr>\n      <th>4</th>\n      <td>0129</td>\n    </tr>\n  </tbody>\n</table>\n</div>"
     },
     "execution_count": 2,
     "metadata": {},
     "output_type": "execute_result"
    }
   ],
   "source": [
    "# Тестовая генерация строковых id\n",
    "testData = {\"ClientID_str\" : [f'{i:04}' for i in range(0, 1000)]}\n",
    "testDf = pd.DataFrame(testData);\n",
    "rnd.shuffle(testDf[\"ClientID_str\"])\n",
    "testDf.head()"
   ],
   "metadata": {
    "collapsed": false
   }
  },
  {
   "cell_type": "markdown",
   "source": [
    "Для работы с каждой функцией создадим два отдельных Data Frame:\n",
    "- endToEndNumbering\n",
    "- randomNumbering\n",
    "\n",
    "В каждый датафрейм нам необходимо добавить колонку с номером группы для каждого клиента.\n",
    "Напишем функцию для получения номера группы."
   ],
   "metadata": {
    "collapsed": false
   }
  },
  {
   "cell_type": "code",
   "execution_count": 3,
   "outputs": [],
   "source": [
    "def getGroupNumber(num):\n",
    "    result = 0\n",
    "    while (num > 0):\n",
    "        result += num % 10\n",
    "        num = num // 10\n",
    "    return result"
   ],
   "metadata": {
    "collapsed": false
   }
  },
  {
   "cell_type": "code",
   "execution_count": 4,
   "outputs": [],
   "source": [
    "# Тесты, при желании раскомментировать\n",
    "# for _ in range(5):\n",
    "#     testNum = rnd.randint(100, 999)\n",
    "#     print(f\"Сумма цифр числа {testNum} равна {getGroupNumber(testNum)}\")"
   ],
   "metadata": {
    "collapsed": false
   }
  },
  {
   "cell_type": "code",
   "execution_count": 5,
   "outputs": [],
   "source": [
    "data = {\"Client_ID\" : [i for i in range(0, 10000000)]}\n",
    "endToEndNumberingDF = pd.DataFrame(data);\n",
    "endToEndNumberingDF[\"Group_Number\"] = endToEndNumberingDF[\"Client_ID\"].apply(getGroupNumber)"
   ],
   "metadata": {
    "collapsed": false
   }
  },
  {
   "cell_type": "code",
   "execution_count": 6,
   "outputs": [
    {
     "data": {
      "text/plain": "         Client_ID  Group_Number\n4628047    4628047            31\n9941942    9941942            38\n8881780    8881780            40\n392560      392560            25\n8196709    8196709            40",
      "text/html": "<div>\n<style scoped>\n    .dataframe tbody tr th:only-of-type {\n        vertical-align: middle;\n    }\n\n    .dataframe tbody tr th {\n        vertical-align: top;\n    }\n\n    .dataframe thead th {\n        text-align: right;\n    }\n</style>\n<table border=\"1\" class=\"dataframe\">\n  <thead>\n    <tr style=\"text-align: right;\">\n      <th></th>\n      <th>Client_ID</th>\n      <th>Group_Number</th>\n    </tr>\n  </thead>\n  <tbody>\n    <tr>\n      <th>4628047</th>\n      <td>4628047</td>\n      <td>31</td>\n    </tr>\n    <tr>\n      <th>9941942</th>\n      <td>9941942</td>\n      <td>38</td>\n    </tr>\n    <tr>\n      <th>8881780</th>\n      <td>8881780</td>\n      <td>40</td>\n    </tr>\n    <tr>\n      <th>392560</th>\n      <td>392560</td>\n      <td>25</td>\n    </tr>\n    <tr>\n      <th>8196709</th>\n      <td>8196709</td>\n      <td>40</td>\n    </tr>\n  </tbody>\n</table>\n</div>"
     },
     "execution_count": 6,
     "metadata": {},
     "output_type": "execute_result"
    }
   ],
   "source": [
    "endToEndNumberingDF.sample(5)"
   ],
   "metadata": {
    "collapsed": false
   }
  },
  {
   "cell_type": "code",
   "execution_count": 7,
   "outputs": [],
   "source": [
    "rnd.shuffle(data[\"Client_ID\"])\n",
    "randomNumberingDF = pd.DataFrame(data);\n",
    "randomNumberingDF[\"Group_Number\"] = randomNumberingDF[\"Client_ID\"].apply(getGroupNumber)"
   ],
   "metadata": {
    "collapsed": false
   }
  },
  {
   "cell_type": "code",
   "execution_count": 8,
   "outputs": [
    {
     "data": {
      "text/plain": "   Client_ID  Group_Number\n0    5355180            27\n1    7134946            34\n2    8914066            34\n3     902410            16\n4    3258450            27",
      "text/html": "<div>\n<style scoped>\n    .dataframe tbody tr th:only-of-type {\n        vertical-align: middle;\n    }\n\n    .dataframe tbody tr th {\n        vertical-align: top;\n    }\n\n    .dataframe thead th {\n        text-align: right;\n    }\n</style>\n<table border=\"1\" class=\"dataframe\">\n  <thead>\n    <tr style=\"text-align: right;\">\n      <th></th>\n      <th>Client_ID</th>\n      <th>Group_Number</th>\n    </tr>\n  </thead>\n  <tbody>\n    <tr>\n      <th>0</th>\n      <td>5355180</td>\n      <td>27</td>\n    </tr>\n    <tr>\n      <th>1</th>\n      <td>7134946</td>\n      <td>34</td>\n    </tr>\n    <tr>\n      <th>2</th>\n      <td>8914066</td>\n      <td>34</td>\n    </tr>\n    <tr>\n      <th>3</th>\n      <td>902410</td>\n      <td>16</td>\n    </tr>\n    <tr>\n      <th>4</th>\n      <td>3258450</td>\n      <td>27</td>\n    </tr>\n  </tbody>\n</table>\n</div>"
     },
     "execution_count": 8,
     "metadata": {},
     "output_type": "execute_result"
    }
   ],
   "source": [
    "randomNumberingDF.head()"
   ],
   "metadata": {
    "collapsed": false
   }
  },
  {
   "cell_type": "markdown",
   "source": [
    "Создадим для каждого датафрейма колонку с группами"
   ],
   "metadata": {
    "collapsed": false
   }
  },
  {
   "cell_type": "code",
   "execution_count": 9,
   "outputs": [
    {
     "data": {
      "text/plain": "          Client_ID  Group_Number\ncount  1.000000e+07  1.000000e+07\nmean   5.000000e+06  3.150000e+01\nstd    2.886751e+06  7.599342e+00\nmin    0.000000e+00  0.000000e+00\n25%    2.500000e+06  2.600000e+01\n50%    5.000000e+06  3.150000e+01\n75%    7.499999e+06  3.700000e+01\nmax    9.999999e+06  6.300000e+01",
      "text/html": "<div>\n<style scoped>\n    .dataframe tbody tr th:only-of-type {\n        vertical-align: middle;\n    }\n\n    .dataframe tbody tr th {\n        vertical-align: top;\n    }\n\n    .dataframe thead th {\n        text-align: right;\n    }\n</style>\n<table border=\"1\" class=\"dataframe\">\n  <thead>\n    <tr style=\"text-align: right;\">\n      <th></th>\n      <th>Client_ID</th>\n      <th>Group_Number</th>\n    </tr>\n  </thead>\n  <tbody>\n    <tr>\n      <th>count</th>\n      <td>1.000000e+07</td>\n      <td>1.000000e+07</td>\n    </tr>\n    <tr>\n      <th>mean</th>\n      <td>5.000000e+06</td>\n      <td>3.150000e+01</td>\n    </tr>\n    <tr>\n      <th>std</th>\n      <td>2.886751e+06</td>\n      <td>7.599342e+00</td>\n    </tr>\n    <tr>\n      <th>min</th>\n      <td>0.000000e+00</td>\n      <td>0.000000e+00</td>\n    </tr>\n    <tr>\n      <th>25%</th>\n      <td>2.500000e+06</td>\n      <td>2.600000e+01</td>\n    </tr>\n    <tr>\n      <th>50%</th>\n      <td>5.000000e+06</td>\n      <td>3.150000e+01</td>\n    </tr>\n    <tr>\n      <th>75%</th>\n      <td>7.499999e+06</td>\n      <td>3.700000e+01</td>\n    </tr>\n    <tr>\n      <th>max</th>\n      <td>9.999999e+06</td>\n      <td>6.300000e+01</td>\n    </tr>\n  </tbody>\n</table>\n</div>"
     },
     "execution_count": 9,
     "metadata": {},
     "output_type": "execute_result"
    }
   ],
   "source": [
    "endToEndNumberingDF.describe()"
   ],
   "metadata": {
    "collapsed": false
   }
  },
  {
   "cell_type": "code",
   "execution_count": 10,
   "outputs": [
    {
     "data": {
      "text/plain": "          Client_ID  Group_Number\ncount  1.000000e+07  1.000000e+07\nmean   5.000000e+06  3.150000e+01\nstd    2.886751e+06  7.599342e+00\nmin    0.000000e+00  0.000000e+00\n25%    2.500000e+06  2.600000e+01\n50%    5.000000e+06  3.150000e+01\n75%    7.499999e+06  3.700000e+01\nmax    9.999999e+06  6.300000e+01",
      "text/html": "<div>\n<style scoped>\n    .dataframe tbody tr th:only-of-type {\n        vertical-align: middle;\n    }\n\n    .dataframe tbody tr th {\n        vertical-align: top;\n    }\n\n    .dataframe thead th {\n        text-align: right;\n    }\n</style>\n<table border=\"1\" class=\"dataframe\">\n  <thead>\n    <tr style=\"text-align: right;\">\n      <th></th>\n      <th>Client_ID</th>\n      <th>Group_Number</th>\n    </tr>\n  </thead>\n  <tbody>\n    <tr>\n      <th>count</th>\n      <td>1.000000e+07</td>\n      <td>1.000000e+07</td>\n    </tr>\n    <tr>\n      <th>mean</th>\n      <td>5.000000e+06</td>\n      <td>3.150000e+01</td>\n    </tr>\n    <tr>\n      <th>std</th>\n      <td>2.886751e+06</td>\n      <td>7.599342e+00</td>\n    </tr>\n    <tr>\n      <th>min</th>\n      <td>0.000000e+00</td>\n      <td>0.000000e+00</td>\n    </tr>\n    <tr>\n      <th>25%</th>\n      <td>2.500000e+06</td>\n      <td>2.600000e+01</td>\n    </tr>\n    <tr>\n      <th>50%</th>\n      <td>5.000000e+06</td>\n      <td>3.150000e+01</td>\n    </tr>\n    <tr>\n      <th>75%</th>\n      <td>7.499999e+06</td>\n      <td>3.700000e+01</td>\n    </tr>\n    <tr>\n      <th>max</th>\n      <td>9.999999e+06</td>\n      <td>6.300000e+01</td>\n    </tr>\n  </tbody>\n</table>\n</div>"
     },
     "execution_count": 10,
     "metadata": {},
     "output_type": "execute_result"
    }
   ],
   "source": [
    "randomNumberingDF.describe()"
   ],
   "metadata": {
    "collapsed": false
   }
  },
  {
   "cell_type": "code",
   "execution_count": 11,
   "outputs": [],
   "source": [
    "endToEndWithGroups = pd.DataFrame(endToEndNumberingDF.groupby('Group_Number').count())"
   ],
   "metadata": {
    "collapsed": false
   }
  },
  {
   "cell_type": "code",
   "execution_count": 12,
   "outputs": [
    {
     "data": {
      "text/plain": "<BarContainer object of 64 artists>"
     },
     "execution_count": 12,
     "metadata": {},
     "output_type": "execute_result"
    },
    {
     "data": {
      "text/plain": "<Figure size 720x360 with 1 Axes>",
      "image/png": "[encoded data removed]"
     },
     "metadata": {
      "needs_background": "light"
     },
     "output_type": "display_data"
    }
   ],
   "source": [
    "fig, ax = plt.subplots()\n",
    "fig.set_figwidth(10)\n",
    "fig.set_figheight(5)\n",
    "ax.set_xlabel('Номер группы')\n",
    "ax.set_ylabel('Количество клиентов')\n",
    "ax.set_title(\"Распределение количества клиентов в зависимости от группы\")\n",
    "ax.bar(endToEndWithGroups.index, endToEndWithGroups[\"Client_ID\"])"
   ],
   "metadata": {
    "collapsed": false
   }
  },
  {
   "cell_type": "markdown",
   "source": [
    "Очевидно что для второго датафрейма (randomNumbering) распределение будет аналогичным, так как датафреймы отличаются только порядком ID клиентов (это так же видно по результатам функции .describe() выше)."
   ],
   "metadata": {
    "collapsed": false
   }
  },
  {
   "cell_type": "markdown",
   "source": [
    "### Промежуточные выводы\n",
    "___\n",
    "На данном этапе:\n",
    " - подготовлено два дата фрейма для реализации поставленных задач\n",
    " - кллиенты разбиты по группам согласно условию, проведена оценка распределения клиентов.\n",
    "\n",
    "Напишем требуемые функции."
   ],
   "metadata": {
    "collapsed": false
   }
  },
  {
   "cell_type": "markdown",
   "source": [
    "### Функция 1\n",
    "Функция, которая подсчитывает число покупателей, попадающих в каждую группу,\n",
    "если нумерация ID сквозная и начинается с 0.\n",
    "На вход функция получает целое число n_customers (количество клиентов)."
   ],
   "metadata": {
    "collapsed": false
   }
  },
  {
   "cell_type": "code",
   "execution_count": 13,
   "outputs": [],
   "source": [
    "# Функция в которой клиенты берутся подряд со случаной позиции\n",
    "def getClientCountNormal_1(n_custumers : int, df : pd.DataFrame) -> pd.DataFrame:\n",
    "    startPosition = rnd.randint(0, len(df) - n_custumers)\n",
    "    result =df[startPosition:startPosition + n_custumers].groupby(\"Group_Number\").count()\n",
    "    return result\n",
    "\n",
    "# Функция в которой клиенты берутся случайным образом\n",
    "def getClientCountRandom(n_custumers : int, df : pd.DataFrame) -> pd.DataFrame:\n",
    "    return df.sample(n_custumers).groupby(\"Group_Number\").count()"
   ],
   "metadata": {
    "collapsed": false
   }
  },
  {
   "cell_type": "code",
   "execution_count": 14,
   "outputs": [],
   "source": [
    "gettingClientByNormal = getClientCountNormal_1(1000, endToEndNumberingDF)\n",
    "gettingClientByRandom = getClientCountRandom(1000, endToEndNumberingDF)"
   ],
   "metadata": {
    "collapsed": false
   }
  },
  {
   "cell_type": "markdown",
   "source": [
    "<a name=\"diag1\">Диаграмма 1.</a>"
   ],
   "metadata": {
    "collapsed": false
   }
  },
  {
   "cell_type": "code",
   "execution_count": 15,
   "outputs": [
    {
     "data": {
      "text/plain": "<BarContainer object of 45 artists>"
     },
     "execution_count": 15,
     "metadata": {},
     "output_type": "execute_result"
    },
    {
     "data": {
      "text/plain": "<Figure size 720x504 with 2 Axes>",
      "image/png": "[encoded data removed]"
     },
     "metadata": {
      "needs_background": "light"
     },
     "output_type": "display_data"
    }
   ],
   "source": [
    "fig, ax = plt.subplots(2)\n",
    "fig.set_figwidth(10)\n",
    "fig.set_figheight(7)\n",
    "ax[0].set_ylabel('Количество клиентов')\n",
    "ax[1].set_xlabel('Номер группы')\n",
    "ax[1].set_ylabel('Количество клиентов')\n",
    "ax[0].set_title(\"Распределение количества клиентов в зависимости от группы (клиенты берутся подряд)\")\n",
    "ax[1].set_title(\"Распределение количества клиентов в зависимости от группы (клиенты берутся случайно)\")\n",
    "ax[0].bar(gettingClientByNormal.index, gettingClientByNormal[\"Client_ID\"])\n",
    "ax[1].bar(gettingClientByRandom.index, gettingClientByRandom[\"Client_ID\"])"
   ],
   "metadata": {
    "collapsed": false
   }
  },
  {
   "cell_type": "markdown",
   "source": [
    "### Функция 2\n",
    "Функция, аналогичная первой, если ID начинается с произвольного числа.\n",
    "На вход функция получает целые числа: n_customers (количество клиентов) и n_first_id (первый ID в последовательности).\n",
    "___\n",
    "*Тут явно указано что задается первый id в последовательности, значит клиентов выбираем только подряд*"
   ],
   "metadata": {
    "collapsed": false
   }
  },
  {
   "cell_type": "code",
   "execution_count": 16,
   "outputs": [],
   "source": [
    "def getClientCountNormal_2(n_custumers : int, n_first_id : int, df : pd.DataFrame):\n",
    "\n",
    "    if n_first_id > len(df):\n",
    "        return \"Некорректный id клиента.\"\n",
    "    else:\n",
    "        # Проверка на случай если индекс выбранного клиента не позволит взять подряд нужное число клиентов\n",
    "        # Например длина датафрейма 100, индекс выбранного клиента равен 95 а нам надо взять 10 человек\n",
    "        ind = df.loc[df[\"Client_ID\"] == n_first_id].index[0]\n",
    "        if df.loc[df[\"Client_ID\"] == n_first_id].index[0] > len(df) - n_custumers:\n",
    "            return df[ind - n_custumers:ind].groupby(\"Group_Number\").count()\n",
    "        else:\n",
    "            return df[ind:ind + n_custumers].groupby(\"Group_Number\").count()"
   ],
   "metadata": {
    "collapsed": false
   }
  },
  {
   "cell_type": "code",
   "execution_count": 17,
   "outputs": [],
   "source": [
    "clientsGroupDistributionRnd = getClientCountNormal_2(10000, rnd.randint(0, 10000000), randomNumberingDF)"
   ],
   "metadata": {
    "collapsed": false
   }
  },
  {
   "cell_type": "markdown",
   "source": [
    "Сравним сразу графически с gettingClientByRandom\n",
    "<a name=\"diag2\">Диаграмма 2</a>"
   ],
   "metadata": {
    "collapsed": false
   }
  },
  {
   "cell_type": "code",
   "execution_count": 18,
   "outputs": [
    {
     "data": {
      "text/plain": "<BarContainer object of 52 artists>"
     },
     "execution_count": 18,
     "metadata": {},
     "output_type": "execute_result"
    },
    {
     "data": {
      "text/plain": "<Figure size 720x504 with 2 Axes>",
      "image/png": "[encoded data removed]"
     },
     "metadata": {
      "needs_background": "light"
     },
     "output_type": "display_data"
    }
   ],
   "source": [
    "fig, ax = plt.subplots(2)\n",
    "fig.set_figwidth(10)\n",
    "fig.set_figheight(7)\n",
    "ax[0].set_ylabel('Количество клиентов')\n",
    "ax[1].set_xlabel('Номер группы')\n",
    "ax[1].set_ylabel('Количество клиентов')\n",
    "ax[0].set_title(\"Распределение количества клиентов в зависимости от группы (клиенты берутся подряд)\")\n",
    "ax[1].set_title(\"Распределение количества клиентов в зависимости от группы (клиенты берутся случайно)\")\n",
    "ax[0].bar(gettingClientByRandom.index, gettingClientByRandom[\"Client_ID\"])\n",
    "ax[1].bar(clientsGroupDistributionRnd.index, clientsGroupDistributionRnd[\"Client_ID\"])"
   ],
   "metadata": {
    "collapsed": false
   }
  },
  {
   "cell_type": "markdown",
   "source": [
    "## Выводы\n",
    "___\n",
    "\n",
    "Функции служили для проверки эффективности алгоритма.\n",
    "По результатам работы с функциями - можно сделать следующие выводы:\n",
    "- функция **getClientCountNormal_1** возвращает датафрейм с заданным количеством клиентов, начиная со случайного id клиента. Клиенты берутся подряд. Результат максимально приближен к нормальному распределению ([см. диаграмму](#diag1) ). Равномерность распределения по группам отсутствует.\n",
    "- функция **getClientCountRandom** возвращает датафрейм с заданным количеством клиентов. Клиенты берутся случайным образом. Результат похож на нормальное распределение, но не настолько как первая функция ([см. диаграмму](#diag1) ). Равномерность распределения по группам все еще отсутствует.\n",
    "- функция **getClientCountNormal_2** возвращает датафрейм с заданным количеством клиентов, начиная с заданного id клиента. Клиенты берутся подряд. Результат похож на нормальное распределение, но не настолько как первая функция ([см. диаграмму](#diag2) ). Равномерность распределения по группам все еще отсутствует. (Результат - нечто среднее между результатами функций getClientCountNormal_1 и getClientCountRandom)\n",
    "\n",
    "## Предложения:\n",
    "- если стремимся получить примерно равное распределение по группам - меняем алгоритм распределения\n",
    "- если такого стремления нет - смотрим на график распределения клиентов по группам и выбираем группы с необходимым количеством клиентов"
   ],
   "metadata": {
    "collapsed": false
   }
  },
  {
   "cell_type": "code",
   "execution_count": 18,
   "outputs": [],
   "source": [],
   "metadata": {
    "collapsed": false
   }
  }
 ],
 "metadata": {
  "kernelspec": {
   "display_name": "Python 3",
   "language": "python",
   "name": "python3"
  },
  "language_info": {
   "codemirror_mode": {
    "name": "ipython",
    "version": 2
   },
   "file_extension": ".py",
   "mimetype": "text/x-python",
   "name": "python",
   "nbconvert_exporter": "python",
   "pygments_lexer": "ipython2",
   "version": "2.7.6"
  }
 },
 "nbformat": 4,
 "nbformat_minor": 0
}
